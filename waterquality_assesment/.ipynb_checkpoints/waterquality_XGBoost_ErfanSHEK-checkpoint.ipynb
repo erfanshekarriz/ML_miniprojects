{
 "cells": [
  {
   "cell_type": "markdown",
   "id": "498c5275",
   "metadata": {},
   "source": [
    "# Classifying Water Potability (by Erfan SHEKARRIZ)"
   ]
  },
  {
   "cell_type": "markdown",
   "id": "d1fefbff",
   "metadata": {},
   "source": [
    "This project makes use of the WHO water quality data set that combines basic parameters measurable by instruments that can ultimate determine the potability of the water (a parameter utlimately nuanced by biological factors such as microbial growth and eutrophication degree). \n",
    "\n",
    "The features of our dataset include:\n"
   ]
  },
  {
   "cell_type": "markdown",
   "id": "7d9301aa",
   "metadata": {},
   "source": [
    "## Feature Exploration"
   ]
  },
  {
   "cell_type": "code",
   "execution_count": 11,
   "id": "bbac08c9",
   "metadata": {},
   "outputs": [],
   "source": [
    "# import data exploration libraries\n",
    "import pandas as pd \n",
    "import numpy as np \n",
    "import missingno as msno\n",
    "\n",
    "# implot plotting libraries\n",
    "import matplotlib.pyplot as plt\n",
    "import seaborn as sns\n",
    "import plotly.express as px\n",
    "import plotly.graph_objects as go\n",
    "from plotly.subplots import make_subplots\n",
    "from plotly.offline import iplot\n",
    "import plotly.figure_factory as ff\n",
    "from plotly.subplots import make_subplots \n",
    "\n",
    "# import machine learning libraries\n",
    "from xgboost import XGBClassifier\n",
    "from sklearn.model_selection import train_test_split,KFold,cross_val_score\n",
    "from sklearn.metrics import accuracy_score\n",
    "from sklearn.impute import SimpleImputer, KNNImputer\n",
    "from sklearn.pipeline import Pipeline\n",
    "from sklearn.discriminant_analysis import LinearDiscriminantAnalysis\n",
    "\n"
   ]
  },
  {
   "cell_type": "markdown",
   "id": "468b55c3",
   "metadata": {},
   "source": [
    "#### Feature Details (Provided by WHO)\n",
    "\n",
    "1. pH value: PH is an important parameter in evaluating the acid–base balance of water. It is also the indicator of acidic or alkaline condition of water status. WHO has recommended maximum permissible limit of pH from 6.5 to 8.5. The current investigation ranges were 6.52–6.83 which are in the range of WHO standards.\n",
    "\n",
    "\n",
    "2. Hardness: Hardness is mainly caused by calcium and magnesium salts. These salts are dissolved from geologic deposits through which water travels. The length of time water is in contact with hardness producing material helps determine how much hardness there is in raw water. Hardness was originally defined as the capacity of water to precipitate soap caused by Calcium and Magnesium.\n",
    "\n",
    "\n",
    "3. Solids (Total dissolved solids - TDS): Water has the ability to dissolve a wide range of inorganic and some organic minerals or salts such as potassium, calcium, sodium, bicarbonates, chlorides, magnesium, sulfates etc. These minerals produced un-wanted taste and diluted color in appearance of water. This is the important parameter for the use of water. The water with high TDS value indicates that water is highly mineralized. Desirable limit for TDS is 500 mg/l and maximum limit is 1000 mg/l which prescribed for drinking purpose.\n",
    "\n",
    "\n",
    "4. Chloramines: Chlorine and chloramine are the major disinfectants used in public water systems. Chloramines are most commonly formed when ammonia is added to chlorine to treat drinking water. Chlorine levels up to 4 milligrams per liter (mg/L or 4 parts per million (ppm)) are considered safe in drinking water.\n",
    "\n",
    "\n",
    "5. Sulfate: Sulfates are naturally occurring substances that are found in minerals, soil, and rocks. They are present in ambient air, groundwater, plants, and food. The principal commercial use of sulfate is in the chemical industry. Sulfate concentration in seawater is about 2,700 milligrams per liter (mg/L). It ranges from 3 to 30 mg/L in most freshwater supplies, although much higher concentrations (1000 mg/L) are found in some geographic locations.\n",
    "\n",
    "\n",
    "6. Conductivity: Pure water is not a good conductor of electric current rather’s a good insulator. Increase in ions concentration enhances the electrical conductivity of water. Generally, the amount of dissolved solids in water determines the electrical conductivity. Electrical conductivity (EC) actually measures the ionic process of a solution that enables it to transmit current. According to WHO standards, EC value should not exceeded 400 μS/cm.\n",
    "\n",
    "\n",
    "7. Organic_carbon: Total Organic Carbon (TOC) in source waters comes from decaying natural organic matter (NOM) as well as synthetic sources. TOC is a measure of the total amount of carbon in organic compounds in pure water. According to US EPA < 2 mg/L as TOC in treated / drinking water, and < 4 mg/Lit in source water which is use for treatment.\n",
    "\n",
    "\n",
    "8. Trihalomethanes: THMs are chemicals which may be found in water treated with chlorine. The concentration of THMs in drinking water varies according to the level of organic material in the water, the amount of chlorine required to treat the water, and the temperature of the water that is being treated. THM levels up to 80 ppm is considered safe in drinking water.\n",
    "\n",
    "\n",
    "9. Turbidity: The turbidity of water depends on the quantity of solid matter present in the suspended state. It is a measure of light emitting properties of water and the test is used to indicate the quality of waste discharge with respect to colloidal matter. The mean turbidity value obtained for Wondo Genet Campus (0.98 NTU) is lower than the WHO recommended value of 5.00 NTU.\n",
    "\n",
    "\n"
   ]
  },
  {
   "cell_type": "markdown",
   "id": "31dfaf76",
   "metadata": {},
   "source": [
    "### Import Data"
   ]
  },
  {
   "cell_type": "code",
   "execution_count": null,
   "id": "ed7a2022",
   "metadata": {},
   "outputs": [],
   "source": [
    "# read the path from path file & have a look at the datatypes \n",
    "path = '/Users/erfanshekarriz/git_repo/ML_miniprojects/waterquality_assesment/data/water_potability.csv'\n",
    "df_raw = pd.read_csv(path)\n",
    "\n",
    "# summary data\n",
    "df_raw.info()\n",
    "df_raw.describe()\n",
    "\n",
    "# change Potability into a category \n",
    "df_raw.Potability = df_raw.Potability.astype('category')\n",
    "\n"
   ]
  },
  {
   "cell_type": "markdown",
   "id": "694461fd",
   "metadata": {},
   "source": [
    "### Univariate Analysis"
   ]
  },
  {
   "cell_type": "code",
   "execution_count": null,
   "id": "4fd3520f",
   "metadata": {},
   "outputs": [],
   "source": [
    "# Check distribution of numerical variables \n",
    "sns.pairplot(df_raw, hue='Potability', kind='reg')\n",
    "plt.show()"
   ]
  },
  {
   "cell_type": "code",
   "execution_count": null,
   "id": "1026629a",
   "metadata": {},
   "outputs": [],
   "source": []
  }
 ],
 "metadata": {
  "kernelspec": {
   "display_name": "Python 3 (ipykernel)",
   "language": "python",
   "name": "python3"
  },
  "language_info": {
   "codemirror_mode": {
    "name": "ipython",
    "version": 3
   },
   "file_extension": ".py",
   "mimetype": "text/x-python",
   "name": "python",
   "nbconvert_exporter": "python",
   "pygments_lexer": "ipython3",
   "version": "3.9.7"
  }
 },
 "nbformat": 4,
 "nbformat_minor": 5
}
